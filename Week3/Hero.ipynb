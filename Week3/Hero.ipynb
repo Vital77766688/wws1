{
 "cells": [
  {
   "cell_type": "code",
   "execution_count": 1,
   "metadata": {},
   "outputs": [],
   "source": [
    "class Hero:\n",
    "    def __init__(self):\n",
    "        self.positive_effects = []\n",
    "        self.negative_effects = []\n",
    "        \n",
    "        self.stats = {\n",
    "            \"HP\": 128,\n",
    "            \"MP\": 42,\n",
    "            \"SP\": 100,\n",
    "            \n",
    "            \"Strength\": 15,\n",
    "            \"Perception\": 4,\n",
    "            \"Endurance\": 8,\n",
    "            \"Charisma\": 2,\n",
    "            \"Intelligence\": 3,\n",
    "            \"Agility\": 8,\n",
    "            \"Luck\": 1\n",
    "        } \n",
    "        \n",
    "    def get_positive_effects(self):\n",
    "        return self.positive_effects.copy()\n",
    "    \n",
    "    def get_negative_effects(self):\n",
    "        return self.negative_effects.copy()\n",
    "    \n",
    "    def get_stats(self):\n",
    "        return self.stats.copy()"
   ]
  },
  {
   "cell_type": "code",
   "execution_count": 2,
   "metadata": {},
   "outputs": [],
   "source": [
    "from abc import ABC, abstractmethod"
   ]
  },
  {
   "cell_type": "code",
   "execution_count": 152,
   "metadata": {},
   "outputs": [],
   "source": [
    "class AbstractEffect(Hero, ABC):\n",
    "    \n",
    "    def __init__(self, base):\n",
    "        self.base = base\n",
    "    \n",
    "    @abstractmethod\n",
    "    def get_stats(self):\n",
    "        return self.base.get_stats()\n",
    "    \n",
    "    def get_positive_effects(self):\n",
    "        return self.base.get_positive_effects()\n",
    "    \n",
    "    def get_negative_effects(self):\n",
    "        return self.base.get_negative_effects()"
   ]
  },
  {
   "cell_type": "code",
   "execution_count": 166,
   "metadata": {},
   "outputs": [],
   "source": [
    "class AbstractPositive(AbstractEffect):\n",
    "    \n",
    "    def get_positive_effects(self):\n",
    "        positive_effects = self.base.get_positive_effects() \n",
    "        positive_effects.append(type(self).__name__)\n",
    "        return positive_effects"
   ]
  },
  {
   "cell_type": "code",
   "execution_count": 167,
   "metadata": {},
   "outputs": [],
   "source": [
    "class AbstractNegative(AbstractEffect):\n",
    "    \n",
    "    def get_negative_effects(self):\n",
    "        negative_effects = self.base.get_negative_effects()\n",
    "        negative_effects.append(type(self).__name__)\n",
    "        return negative_effects"
   ]
  },
  {
   "cell_type": "code",
   "execution_count": 168,
   "metadata": {},
   "outputs": [],
   "source": [
    "class Berserk(AbstractPositive):\n",
    "    \n",
    "    def get_stats(self):\n",
    "        stats = self.base.get_stats()\n",
    "        characteristics = {\n",
    "            \"Strength\": 7,\n",
    "            \"Endurance\": 7, \n",
    "            \"Agility\": 7,\n",
    "            \"Luck\": 7,\n",
    "            \"Perception\": -3,\n",
    "            \"Charisma\": -3,\n",
    "            \"Intelligence\": -3,\n",
    "            \"HP\": 50\n",
    "        }\n",
    "        \n",
    "        for key, value in characteristics.items():\n",
    "            stats[key] += value\n",
    "            \n",
    "        return stats"
   ]
  },
  {
   "cell_type": "code",
   "execution_count": 169,
   "metadata": {},
   "outputs": [],
   "source": [
    "class Blessing(AbstractPositive):\n",
    "    \n",
    "    def get_stats(self):\n",
    "        stats = self.base.get_stats()\n",
    "        characteristics = {\n",
    "            \"Strength\": 2,\n",
    "            \"Perception\": 2,\n",
    "            \"Endurance\": 2,\n",
    "            \"Charisma\": 2,\n",
    "            \"Intelligence\": 2,\n",
    "            \"Agility\": 2,\n",
    "            \"Luck\": 2\n",
    "        }\n",
    "        \n",
    "        for key, value in characteristics.items():\n",
    "            stats[key] += value\n",
    "            \n",
    "        return stats"
   ]
  },
  {
   "cell_type": "code",
   "execution_count": 170,
   "metadata": {},
   "outputs": [],
   "source": [
    "class Weakness(AbstractNegative):\n",
    "    def get_stats(self):\n",
    "        stats = self.base.get_stats()\n",
    "        characteristics = {\n",
    "            \"Strength\": -4,\n",
    "            \"Endurance\": -4,\n",
    "            \"Agility\": -4\n",
    "        }\n",
    "        \n",
    "        for key, value in characteristics.items():\n",
    "            stats[key] += value\n",
    "            \n",
    "        return stats"
   ]
  },
  {
   "cell_type": "code",
   "execution_count": 171,
   "metadata": {},
   "outputs": [],
   "source": [
    "class EvilEye(AbstractNegative):\n",
    "    \n",
    "    def get_stats(self):\n",
    "        stats = self.base.get_stats()\n",
    "        characteristics = {\n",
    "            \"Luck\": -10\n",
    "        }\n",
    "        \n",
    "        for key, value in characteristics.items():\n",
    "            stats[key] += value\n",
    "            \n",
    "        return stats"
   ]
  },
  {
   "cell_type": "code",
   "execution_count": 172,
   "metadata": {},
   "outputs": [],
   "source": [
    "class Curse(AbstractNegative):\n",
    "\n",
    "    def get_stats(self):\n",
    "        stats = self.base.get_stats()\n",
    "        characteristics = {\n",
    "            \"Strength\": -2,\n",
    "            \"Perception\": -2,\n",
    "            \"Endurance\": -2,\n",
    "            \"Charisma\": -2,\n",
    "            \"Intelligence\": -2,\n",
    "            \"Agility\": -2,\n",
    "            \"Luck\": -2\n",
    "        }\n",
    "        \n",
    "        for key, value in characteristics.items():\n",
    "            stats[key] += value\n",
    "            \n",
    "        return stats"
   ]
  },
  {
   "cell_type": "code",
   "execution_count": 173,
   "metadata": {},
   "outputs": [
    {
     "name": "stdout",
     "output_type": "stream",
     "text": [
      "{'HP': 128, 'MP': 42, 'SP': 100, 'Strength': 15, 'Perception': 4, 'Endurance': 8, 'Charisma': 2, 'Intelligence': 3, 'Agility': 8, 'Luck': 1}\n",
      "[]\n",
      "[]\n"
     ]
    }
   ],
   "source": [
    "hero = Hero()\n",
    "print(hero.get_stats())\n",
    "print(hero.get_positive_effects())\n",
    "print(hero.get_negative_effects())"
   ]
  },
  {
   "cell_type": "code",
   "execution_count": 174,
   "metadata": {},
   "outputs": [
    {
     "name": "stdout",
     "output_type": "stream",
     "text": [
      "{'HP': 178, 'MP': 42, 'SP': 100, 'Strength': 22, 'Perception': 1, 'Endurance': 15, 'Charisma': -1, 'Intelligence': 0, 'Agility': 15, 'Luck': 8}\n",
      "['Berserk']\n",
      "[]\n"
     ]
    }
   ],
   "source": [
    "hero = Berserk(hero)\n",
    "print(hero.get_stats())\n",
    "print(hero.get_positive_effects())\n",
    "print(hero.get_negative_effects())"
   ]
  },
  {
   "cell_type": "code",
   "execution_count": 175,
   "metadata": {},
   "outputs": [
    {
     "name": "stdout",
     "output_type": "stream",
     "text": [
      "{'HP': 178, 'MP': 42, 'SP': 100, 'Strength': 24, 'Perception': 3, 'Endurance': 17, 'Charisma': 1, 'Intelligence': 2, 'Agility': 17, 'Luck': 10}\n",
      "['Berserk', 'Blessing']\n",
      "[]\n"
     ]
    }
   ],
   "source": [
    "hero = Blessing(hero)\n",
    "print(hero.get_stats())\n",
    "print(hero.get_positive_effects())\n",
    "print(hero.get_negative_effects())"
   ]
  },
  {
   "cell_type": "code",
   "execution_count": 176,
   "metadata": {},
   "outputs": [
    {
     "name": "stdout",
     "output_type": "stream",
     "text": [
      "{'HP': 178, 'MP': 42, 'SP': 100, 'Strength': 20, 'Perception': 3, 'Endurance': 13, 'Charisma': 1, 'Intelligence': 2, 'Agility': 13, 'Luck': 10}\n",
      "['Berserk', 'Blessing']\n",
      "['Weakness']\n"
     ]
    }
   ],
   "source": [
    "hero = Weakness(hero)\n",
    "print(hero.get_stats())\n",
    "print(hero.get_positive_effects())\n",
    "print(hero.get_negative_effects())"
   ]
  },
  {
   "cell_type": "code",
   "execution_count": 177,
   "metadata": {
    "scrolled": true
   },
   "outputs": [
    {
     "name": "stdout",
     "output_type": "stream",
     "text": [
      "{'HP': 178, 'MP': 42, 'SP': 100, 'Strength': 24, 'Perception': 3, 'Endurance': 17, 'Charisma': 1, 'Intelligence': 2, 'Agility': 17, 'Luck': 10}\n",
      "['Berserk', 'Blessing']\n",
      "[]\n"
     ]
    }
   ],
   "source": [
    "hero = hero.base\n",
    "print(hero.get_stats())\n",
    "print(hero.get_positive_effects())\n",
    "print(hero.get_negative_effects())"
   ]
  },
  {
   "cell_type": "code",
   "execution_count": 178,
   "metadata": {},
   "outputs": [
    {
     "ename": "TypeError",
     "evalue": "Can't instantiate abstract class AbstractPositive with abstract methods get_stats",
     "output_type": "error",
     "traceback": [
      "\u001b[0;31m---------------------------------------------------------------------------\u001b[0m",
      "\u001b[0;31mTypeError\u001b[0m                                 Traceback (most recent call last)",
      "\u001b[0;32m<ipython-input-178-77ccbb4cff6c>\u001b[0m in \u001b[0;36m<module>\u001b[0;34m()\u001b[0m\n\u001b[0;32m----> 1\u001b[0;31m \u001b[0mhero\u001b[0m \u001b[0;34m=\u001b[0m \u001b[0mAbstractPositive\u001b[0m\u001b[0;34m(\u001b[0m\u001b[0mhero\u001b[0m\u001b[0;34m)\u001b[0m\u001b[0;34m\u001b[0m\u001b[0m\n\u001b[0m",
      "\u001b[0;31mTypeError\u001b[0m: Can't instantiate abstract class AbstractPositive with abstract methods get_stats"
     ]
    }
   ],
   "source": [
    "hero = AbstractPositive(hero)"
   ]
  }
 ],
 "metadata": {
  "kernelspec": {
   "display_name": "Python 3",
   "language": "python",
   "name": "python3"
  },
  "language_info": {
   "codemirror_mode": {
    "name": "ipython",
    "version": 3
   },
   "file_extension": ".py",
   "mimetype": "text/x-python",
   "name": "python",
   "nbconvert_exporter": "python",
   "pygments_lexer": "ipython3",
   "version": "3.6.5"
  }
 },
 "nbformat": 4,
 "nbformat_minor": 2
}
