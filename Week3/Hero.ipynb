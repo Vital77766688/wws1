{
 "cells": [
  {
   "cell_type": "code",
   "execution_count": 1,
   "metadata": {},
   "outputs": [],
   "source": [
    "class Hero:\n",
    "    def __init__(self):\n",
    "        self.positive_effects = []\n",
    "        self.negative_effects = []\n",
    "        \n",
    "        self.stats = {\n",
    "            \"HP\": 128,\n",
    "            \"MP\": 42,\n",
    "            \"SP\": 100,\n",
    "            \n",
    "            \"Strength\": 15,\n",
    "            \"Perception\": 4,\n",
    "            \"Endurance\": 8,\n",
    "            \"Charisma\": 2,\n",
    "            \"Intelligence\": 3,\n",
    "            \"Agility\": 8,\n",
    "            \"Luck\": 1\n",
    "        } \n",
    "        \n",
    "    def get_positive_effects(self):\n",
    "        return self.positive_effects.copy()\n",
    "    \n",
    "    def get_negative_effects(self):\n",
    "        return self.negative_effects.copy()\n",
    "    \n",
    "    def get_stats(self):\n",
    "        return self.stats.copy()"
   ]
  },
  {
   "cell_type": "code",
   "execution_count": 2,
   "metadata": {},
   "outputs": [],
   "source": [
    "from abc import ABC, abstractmethod"
   ]
  },
  {
   "cell_type": "code",
   "execution_count": 9,
   "metadata": {},
   "outputs": [],
   "source": [
    "class AbstractEffect(Hero, ABC):\n",
    "    \n",
    "    def __init__(self, base):\n",
    "        self.base = base\n",
    "    \n",
    "    def get_stats(self):\n",
    "        return self.base.get_stats()\n",
    "    \n",
    "    def get_positive_effects(self):\n",
    "        return self.base.get_positive_effects()\n",
    "    \n",
    "    def get_negative_effects(self):\n",
    "        return self.base.get_negative_effects()"
   ]
  },
  {
   "cell_type": "code",
   "execution_count": 46,
   "metadata": {},
   "outputs": [],
   "source": [
    "class AbstractPositive(AbstractEffect):\n",
    "    \n",
    "    def get_positive_effects(self):\n",
    "        positive_effects = self.base.get_positive_effects() \n",
    "        positive_effects.append(type(self).__name__)\n",
    "        return positive_effects"
   ]
  },
  {
   "cell_type": "code",
   "execution_count": 45,
   "metadata": {},
   "outputs": [],
   "source": [
    "class AbstractNegative(AbstractEffect):\n",
    "    \n",
    "    def get_negative_effects(self):\n",
    "        negative_effects = self.base.get_negative_effects()\n",
    "        negative_effects.append(type(self).__name__)\n",
    "        return negative_effects"
   ]
  },
  {
   "cell_type": "code",
   "execution_count": 47,
   "metadata": {},
   "outputs": [],
   "source": [
    "class Berserk(AbstractPositive):\n",
    "    \n",
    "    def get_stats(self):\n",
    "        stats = self.base.get_stats()\n",
    "        characteristics = {\n",
    "            \"Strength\": 7,\n",
    "            \"Endurance\": 7, \n",
    "            \"Agility\": 7,\n",
    "            \"Luck\": 7,\n",
    "            \"Perception\": -3,\n",
    "            \"Charisma\": -3,\n",
    "            \"Intelligence\": -3,\n",
    "            \"HP\": 50\n",
    "        }\n",
    "        \n",
    "        for key, value in characteristics.items():\n",
    "            stats[key] += value\n",
    "            \n",
    "        return stats"
   ]
  },
  {
   "cell_type": "code",
   "execution_count": 55,
   "metadata": {},
   "outputs": [],
   "source": [
    "class Blessing(AbstractPositive):\n",
    "    \n",
    "    def get_stats(self):\n",
    "        stats = self.base.get_stats()\n",
    "        characteristics = {\n",
    "            \"Strength\": 2,\n",
    "            \"Perception\": 2,\n",
    "            \"Endurance\": 2,\n",
    "            \"Charisma\": 2,\n",
    "            \"Intelligence\": 2,\n",
    "            \"Agility\": 2,\n",
    "            \"Luck\": 2\n",
    "        }\n",
    "        \n",
    "        for key, value in characteristics.items():\n",
    "            stats[key] += value\n",
    "            \n",
    "        return stats"
   ]
  },
  {
   "cell_type": "code",
   "execution_count": 101,
   "metadata": {},
   "outputs": [],
   "source": [
    "class Weakness(AbstractNegative):\n",
    "    def get_stats(self):\n",
    "        stats = self.base.get_stats()\n",
    "        characteristics = {\n",
    "            \"Strength\": -4,\n",
    "            \"Endurance\": -4,\n",
    "            \"Agility\": -4\n",
    "        }\n",
    "        \n",
    "        for key, value in characteristics.items():\n",
    "            stats[key] += value\n",
    "            \n",
    "        return stats"
   ]
  },
  {
   "cell_type": "code",
   "execution_count": 96,
   "metadata": {},
   "outputs": [],
   "source": [
    "class EvilEye(AbstractNegative):\n",
    "    \n",
    "    def get_stats(self):\n",
    "        stats = self.base.get_stats()\n",
    "        characteristics = {\n",
    "            \"Luck\": -10\n",
    "        }\n",
    "        \n",
    "        for key, value in characteristics.items():\n",
    "            stats[key] += value\n",
    "            \n",
    "        return stats"
   ]
  },
  {
   "cell_type": "code",
   "execution_count": 94,
   "metadata": {},
   "outputs": [],
   "source": [
    "class Curse(AbstractNegative):\n",
    "\n",
    "    def get_stats(self):\n",
    "        stats = self.base.get_stats()\n",
    "        characteristics = {\n",
    "            \"Strength\": -2,\n",
    "            \"Perception\": -2,\n",
    "            \"Endurance\": -2,\n",
    "            \"Charisma\": -2,\n",
    "            \"Intelligence\": -2,\n",
    "            \"Agility\": -2,\n",
    "            \"Luck\": -2\n",
    "        }\n",
    "        \n",
    "        for key, value in characteristics.items():\n",
    "            stats[key] += value\n",
    "            \n",
    "        return stats"
   ]
  },
  {
   "cell_type": "code",
   "execution_count": 102,
   "metadata": {},
   "outputs": [
    {
     "name": "stdout",
     "output_type": "stream",
     "text": [
      "{'HP': 128, 'MP': 42, 'SP': 100, 'Strength': 15, 'Perception': 4, 'Endurance': 8, 'Charisma': 2, 'Intelligence': 3, 'Agility': 8, 'Luck': 1}\n",
      "[]\n",
      "[]\n"
     ]
    }
   ],
   "source": [
    "hero = Hero()\n",
    "print(hero.get_stats())\n",
    "print(hero.get_positive_effects())\n",
    "print(hero.get_negative_effects())"
   ]
  },
  {
   "cell_type": "code",
   "execution_count": 82,
   "metadata": {},
   "outputs": [
    {
     "name": "stdout",
     "output_type": "stream",
     "text": [
      "{'HP': 278, 'MP': 42, 'SP': 100, 'Strength': 30, 'Perception': 1, 'Endurance': 23, 'Charisma': -1, 'Intelligence': 0, 'Agility': 47, 'Luck': 28}\n",
      "['Berserk', 'Berserk', 'Blessing', 'Blessing', 'Blessing', 'Berserk']\n",
      "['Weakness', 'Weakness', 'Weakness']\n"
     ]
    }
   ],
   "source": [
    "hero = Berserk(hero)\n",
    "print(hero.get_stats())\n",
    "print(hero.get_positive_effects())\n",
    "print(hero.get_negative_effects())"
   ]
  },
  {
   "cell_type": "code",
   "execution_count": 80,
   "metadata": {},
   "outputs": [
    {
     "name": "stdout",
     "output_type": "stream",
     "text": [
      "{'HP': 228, 'MP': 42, 'SP': 100, 'Strength': 27, 'Perception': 4, 'Endurance': 20, 'Charisma': 2, 'Intelligence': 3, 'Agility': 36, 'Luck': 21}\n",
      "['Berserk', 'Berserk', 'Blessing', 'Blessing', 'Blessing']\n",
      "['Weakness', 'Weakness']\n"
     ]
    }
   ],
   "source": [
    "hero = Blessing(hero)\n",
    "print(hero.get_stats())\n",
    "print(hero.get_positive_effects())\n",
    "print(hero.get_negative_effects())"
   ]
  },
  {
   "cell_type": "code",
   "execution_count": 103,
   "metadata": {},
   "outputs": [
    {
     "name": "stdout",
     "output_type": "stream",
     "text": [
      "{'HP': 128, 'MP': 42, 'SP': 100, 'Strength': 11, 'Perception': 4, 'Endurance': 4, 'Charisma': 2, 'Intelligence': 3, 'Agility': 4, 'Luck': 1}\n",
      "[]\n",
      "['Weakness']\n"
     ]
    }
   ],
   "source": [
    "hero = Weakness(hero)\n",
    "print(hero.get_stats())\n",
    "print(hero.get_positive_effects())\n",
    "print(hero.get_negative_effects())"
   ]
  },
  {
   "cell_type": "code",
   "execution_count": 93,
   "metadata": {
    "scrolled": true
   },
   "outputs": [
    {
     "name": "stdout",
     "output_type": "stream",
     "text": [
      "{'HP': 128, 'MP': 42, 'SP': 100, 'Strength': 15, 'Perception': 4, 'Endurance': 8, 'Charisma': 2, 'Intelligence': 3, 'Agility': 8, 'Luck': 1}\n",
      "[]\n",
      "[]\n"
     ]
    }
   ],
   "source": [
    "hero = hero.base\n",
    "print(hero.get_stats())\n",
    "print(hero.get_positive_effects())\n",
    "print(hero.get_negative_effects())"
   ]
  }
 ],
 "metadata": {
  "kernelspec": {
   "display_name": "Python 3",
   "language": "python",
   "name": "python3"
  },
  "language_info": {
   "codemirror_mode": {
    "name": "ipython",
    "version": 3
   },
   "file_extension": ".py",
   "mimetype": "text/x-python",
   "name": "python",
   "nbconvert_exporter": "python",
   "pygments_lexer": "ipython3",
   "version": "3.6.5"
  }
 },
 "nbformat": 4,
 "nbformat_minor": 2
}
